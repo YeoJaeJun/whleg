{
 "cells": [
  {
   "cell_type": "code",
   "execution_count": 80,
   "id": "b0c96740-d37f-406f-8a46-41652d575ff3",
   "metadata": {},
   "outputs": [],
   "source": [
    "schedules = [700, 800, 1100]\n",
    "timelogs = [[710, 2359, 1050, 700, 650, 631, 659], [800, 801, 805, 800, 759, 810, 809], [1105, 1001, 1002, 600, 1059, 1001, 1100]]\n",
    "startday = 5"
   ]
  },
  {
   "cell_type": "code",
   "execution_count": 81,
   "id": "f44ee787-3995-4580-9d03-75463e7a9d05",
   "metadata": {},
   "outputs": [],
   "source": [
    "for timelog in timelogs:\n",
    "    for i in range(len(timelog)):\n",
    "        if (startday + i) % 6 == 0 or (startday + i % 7) == 0:\n",
    "            del timelog[i]"
   ]
  },
  {
   "cell_type": "code",
   "execution_count": 84,
   "id": "24d292bb-ce57-4183-9768-53ec28b37b14",
   "metadata": {},
   "outputs": [
    {
     "data": {
      "text/plain": [
       "[[710, 1050, 700, 650, 631, 659],\n",
       " [800, 805, 800, 759, 810, 809],\n",
       " [1105, 1002, 600, 1059, 1001, 1100]]"
      ]
     },
     "execution_count": 84,
     "metadata": {},
     "output_type": "execute_result"
    }
   ],
   "source": [
    "timelogs"
   ]
  },
  {
   "cell_type": "code",
   "execution_count": null,
   "id": "2468b004-58be-4cc3-8b91-cc063e35914c",
   "metadata": {},
   "outputs": [],
   "source": []
  }
 ],
 "metadata": {
  "kernelspec": {
   "display_name": "Python 3 (ipykernel)",
   "language": "python",
   "name": "python3"
  },
  "language_info": {
   "codemirror_mode": {
    "name": "ipython",
    "version": 3
   },
   "file_extension": ".py",
   "mimetype": "text/x-python",
   "name": "python",
   "nbconvert_exporter": "python",
   "pygments_lexer": "ipython3",
   "version": "3.9.21"
  }
 },
 "nbformat": 4,
 "nbformat_minor": 5
}

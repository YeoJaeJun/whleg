{
 "cells": [
  {
   "cell_type": "markdown",
   "id": "4a905014-eca1-495f-8798-993cedfea345",
   "metadata": {},
   "source": [
    "# 4. RGB-D Outline"
   ]
  },
  {
   "cell_type": "code",
   "execution_count": null,
   "id": "c13dede0-777d-4bd4-b96e-5ec3a91e0b77",
   "metadata": {},
   "outputs": [],
   "source": []
  },
  {
   "cell_type": "code",
   "execution_count": null,
   "id": "6ec5330b-18bc-45c0-ac6b-0bf7123fb942",
   "metadata": {},
   "outputs": [],
   "source": []
  },
  {
   "cell_type": "code",
   "execution_count": null,
   "id": "15de8476-506e-42df-b7f0-57729147b0f6",
   "metadata": {},
   "outputs": [],
   "source": []
  },
  {
   "cell_type": "code",
   "execution_count": null,
   "id": "51688d75-b578-4a1b-a79c-dc595e09d8e7",
   "metadata": {},
   "outputs": [],
   "source": []
  },
  {
   "cell_type": "code",
   "execution_count": null,
   "id": "e1d687b9-5bfe-4562-a76f-efee6dbeacb2",
   "metadata": {},
   "outputs": [],
   "source": []
  },
  {
   "cell_type": "code",
   "execution_count": null,
   "id": "28b2bb4b-f608-46d9-aa97-5bfa23e0431d",
   "metadata": {},
   "outputs": [],
   "source": []
  }
 ],
 "metadata": {
  "kernelspec": {
   "display_name": "Python 3 (ipykernel)",
   "language": "python",
   "name": "python3"
  },
  "language_info": {
   "codemirror_mode": {
    "name": "ipython",
    "version": 3
   },
   "file_extension": ".py",
   "mimetype": "text/x-python",
   "name": "python",
   "nbconvert_exporter": "python",
   "pygments_lexer": "ipython3",
   "version": "3.9.21"
  }
 },
 "nbformat": 4,
 "nbformat_minor": 5
}

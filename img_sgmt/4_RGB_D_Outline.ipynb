{
 "cells": [
  {
   "cell_type": "markdown",
   "id": "4a905014-eca1-495f-8798-993cedfea345",
   "metadata": {},
   "source": [
    "# 4. RGB-D Outline"
   ]
  },
  {
   "cell_type": "code",
   "execution_count": 1,
   "id": "252e7021-89a7-4308-b832-3c554d8346f6",
   "metadata": {},
   "outputs": [],
   "source": [
    "import pyrealsense2 as rs\n",
    "import numpy as np\n",
    "import cv2"
   ]
  },
  {
   "cell_type": "code",
   "execution_count": 4,
   "id": "dfe081e5-3233-46b5-851c-5ce9be1ee951",
   "metadata": {},
   "outputs": [
    {
     "ename": "RuntimeError",
     "evalue": "Frame didn't arrive within 5000",
     "output_type": "error",
     "traceback": [
      "\u001b[1;31m---------------------------------------------------------------------------\u001b[0m",
      "\u001b[1;31mRuntimeError\u001b[0m                              Traceback (most recent call last)",
      "Cell \u001b[1;32mIn[4], line 13\u001b[0m\n\u001b[0;32m     10\u001b[0m \u001b[38;5;28;01mtry\u001b[39;00m:\n\u001b[0;32m     11\u001b[0m     \u001b[38;5;28;01mwhile\u001b[39;00m \u001b[38;5;28;01mTrue\u001b[39;00m:\n\u001b[0;32m     12\u001b[0m         \u001b[38;5;66;03m# 3. 프레임 가져오기\u001b[39;00m\n\u001b[1;32m---> 13\u001b[0m         frames \u001b[38;5;241m=\u001b[39m \u001b[43mpipeline\u001b[49m\u001b[38;5;241;43m.\u001b[39;49m\u001b[43mwait_for_frames\u001b[49m\u001b[43m(\u001b[49m\u001b[43m)\u001b[49m\n\u001b[0;32m     14\u001b[0m         depth_frame \u001b[38;5;241m=\u001b[39m frames\u001b[38;5;241m.\u001b[39mget_depth_frame()\n\u001b[0;32m     15\u001b[0m         color_frame \u001b[38;5;241m=\u001b[39m frames\u001b[38;5;241m.\u001b[39mget_color_frame()\n",
      "\u001b[1;31mRuntimeError\u001b[0m: Frame didn't arrive within 5000"
     ]
    }
   ],
   "source": [
    "# 1. 파이프라인 생성 및 설정\n",
    "pipeline = rs.pipeline()\n",
    "config = rs.config()\n",
    "config.enable_stream(rs.stream.depth, 640, 480, rs.format.z16, 30)  # 깊이 스트림\n",
    "config.enable_stream(rs.stream.color, 640, 480, rs.format.bgr8, 30)  # 컬러 스트림\n",
    "\n",
    "# 2. 스트리밍 시작\n",
    "pipeline.start(config)\n",
    "\n",
    "try:\n",
    "    while True:\n",
    "        # 3. 프레임 가져오기\n",
    "        frames = pipeline.wait_for_frames()\n",
    "        depth_frame = frames.get_depth_frame()\n",
    "        color_frame = frames.get_color_frame()\n",
    "        if not depth_frame or not color_frame:\n",
    "            continue\n",
    "\n",
    "        # 4. numpy 배열로 변환\n",
    "        depth_image = np.asanyarray(depth_frame.get_data())\n",
    "        color_image = np.asanyarray(color_frame.get_data())\n",
    "\n",
    "        # 5. 깊이 영상을 시각적으로 보기 좋게 변환\n",
    "        depth_colormap = cv2.applyColorMap(cv2.convertScaleAbs(depth_image, alpha=0.03), cv2.COLORMAP_JET)\n",
    "\n",
    "        # 6. 두 영상 나란히 보여주기\n",
    "        images = np.hstack((color_image, depth_colormap))\n",
    "        cv2.imshow('RealSense D435 (Color / Depth)', images)\n",
    "\n",
    "        # 7. 종료 조건: ESC 키 입력 시 종료\n",
    "        key = cv2.waitKey(1)\n",
    "        if key == 27:\n",
    "            break\n",
    "\n",
    "finally:\n",
    "    # 8. 스트리밍 종료\n",
    "    pipeline.stop()\n",
    "    cv2.destroyAllWindows()"
   ]
  },
  {
   "cell_type": "code",
   "execution_count": null,
   "id": "6ec5330b-18bc-45c0-ac6b-0bf7123fb942",
   "metadata": {},
   "outputs": [],
   "source": []
  },
  {
   "cell_type": "code",
   "execution_count": null,
   "id": "15de8476-506e-42df-b7f0-57729147b0f6",
   "metadata": {},
   "outputs": [],
   "source": []
  },
  {
   "cell_type": "code",
   "execution_count": null,
   "id": "51688d75-b578-4a1b-a79c-dc595e09d8e7",
   "metadata": {},
   "outputs": [],
   "source": []
  },
  {
   "cell_type": "code",
   "execution_count": null,
   "id": "e1d687b9-5bfe-4562-a76f-efee6dbeacb2",
   "metadata": {},
   "outputs": [],
   "source": []
  },
  {
   "cell_type": "code",
   "execution_count": null,
   "id": "28b2bb4b-f608-46d9-aa97-5bfa23e0431d",
   "metadata": {},
   "outputs": [],
   "source": []
  }
 ],
 "metadata": {
  "kernelspec": {
   "display_name": "Python 3 (ipykernel)",
   "language": "python",
   "name": "python3"
  },
  "language_info": {
   "codemirror_mode": {
    "name": "ipython",
    "version": 3
   },
   "file_extension": ".py",
   "mimetype": "text/x-python",
   "name": "python",
   "nbconvert_exporter": "python",
   "pygments_lexer": "ipython3",
   "version": "3.9.21"
  }
 },
 "nbformat": 4,
 "nbformat_minor": 5
}

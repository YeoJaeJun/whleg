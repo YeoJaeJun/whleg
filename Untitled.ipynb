{
 "cells": [
  {
   "cell_type": "code",
   "execution_count": 30,
   "id": "b0c96740-d37f-406f-8a46-41652d575ff3",
   "metadata": {},
   "outputs": [],
   "source": [
    "schedules = [700, 800, 1100]\n",
    "timelogs = [[710, 2359, 1050, 700, 650, 631, 659], [800, 801, 805, 800, 759, 810, 809], [1105, 1001, 1002, 600, 1059, 1001, 1100]]\n",
    "startday = 5"
   ]
  },
  {
   "cell_type": "code",
   "execution_count": 37,
   "id": "e2144a05-0f35-4bcc-9315-d652c46c92fe",
   "metadata": {},
   "outputs": [],
   "source": [
    "schedules = [730, 855, 700, 720]\n",
    "timelogs = [[710, 700, 650, 735, 700, 931, 912], [908, 901, 805, 815, 800, 831, 835], [705, 701, 702, 705, 710, 710, 711], [707, 731, 859, 913, 934, 931, 905]]\t\n",
    "startday = 1"
   ]
  },
  {
   "cell_type": "code",
   "execution_count": 38,
   "id": "f44ee787-3995-4580-9d03-75463e7a9d05",
   "metadata": {},
   "outputs": [],
   "source": [
    "new_timelogs = []\n",
    "\n",
    "for timelog in timelogs:\n",
    "    new_timelog = []\n",
    "    for i in range(len(timelog)):\n",
    "        if (startday + i) % 7 != 6 and (startday + i) % 7 != 0:\n",
    "            new_timelog.append(timelog[i])\n",
    "    new_timelogs.append(new_timelog)"
   ]
  },
  {
   "cell_type": "code",
   "execution_count": 39,
   "id": "afd36c4c-4c27-43e5-a56c-fcc858ae8d59",
   "metadata": {},
   "outputs": [
    {
     "data": {
      "text/plain": [
       "[[710, 700, 650, 735, 700],\n",
       " [908, 901, 805, 815, 800],\n",
       " [705, 701, 702, 705, 710],\n",
       " [707, 731, 859, 913, 934]]"
      ]
     },
     "execution_count": 39,
     "metadata": {},
     "output_type": "execute_result"
    }
   ],
   "source": [
    "new_timelogs"
   ]
  },
  {
   "cell_type": "code",
   "execution_count": 40,
   "id": "2468b004-58be-4cc3-8b91-cc063e35914c",
   "metadata": {},
   "outputs": [],
   "source": [
    "answer = 0\n",
    "\n",
    "for idx, value in enumerate(schedules):\n",
    "    if [value+10]*5 >= new_timelogs[idx]:\n",
    "        answer += 1\n",
    "            \n",
    "        "
   ]
  },
  {
   "cell_type": "code",
   "execution_count": 41,
   "id": "446d6493-1bdb-45d2-b404-40a06ec6e79e",
   "metadata": {},
   "outputs": [
    {
     "data": {
      "text/plain": [
       "3"
      ]
     },
     "execution_count": 41,
     "metadata": {},
     "output_type": "execute_result"
    }
   ],
   "source": [
    "answer"
   ]
  },
  {
   "cell_type": "code",
   "execution_count": null,
   "id": "1e430b63-8ac3-44a5-88d3-fe6b65090cb4",
   "metadata": {},
   "outputs": [],
   "source": []
  }
 ],
 "metadata": {
  "kernelspec": {
   "display_name": "Python 3 (ipykernel)",
   "language": "python",
   "name": "python3"
  },
  "language_info": {
   "codemirror_mode": {
    "name": "ipython",
    "version": 3
   },
   "file_extension": ".py",
   "mimetype": "text/x-python",
   "name": "python",
   "nbconvert_exporter": "python",
   "pygments_lexer": "ipython3",
   "version": "3.9.21"
  }
 },
 "nbformat": 4,
 "nbformat_minor": 5
}
